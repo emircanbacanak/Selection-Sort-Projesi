{
  "nbformat": 4,
  "nbformat_minor": 0,
  "metadata": {
    "colab": {
      "provenance": [],
      "mount_file_id": "https://gist.github.com/emircanbacanak/c03804b62eb044728e074db7b2cea9f7#file-crypto-recommendation-ipynb",
      "authorship_tag": "ABX9TyO+rIisUeepjrcPGhIwhAzJ"
    },
    "kernelspec": {
      "name": "python3",
      "display_name": "Python 3"
    },
    "language_info": {
      "name": "python"
    }
  },
  "cells": [
    {
      "cell_type": "code",
      "source": [
        "!pip install tulipy\n",
        "!pip install pycoingecko\n",
        "!pip install pandas_ta\n",
        "!pip install python-binance\n",
        "!pip install ta\n"
      ],
      "metadata": {
        "id": "6shq793bOcr-"
      },
      "execution_count": null,
      "outputs": []
    },
    {
      "cell_type": "markdown",
      "source": [
        "# Gerekli kütüphanlerin importu"
      ],
      "metadata": {
        "id": "45TU_BmE7hF5"
      }
    },
    {
      "cell_type": "code",
      "source": [
        "import pandas as pd\n",
        "import pandas_ta as ta\n",
        "import numpy as np\n",
        "import tulipy as ti\n",
        "import csv\n",
        "import builtins\n",
        "import matplotlib.pyplot as plt\n",
        "import yfinance as yf\n",
        "import json\n",
        "import webbrowser\n",
        "from datetime import datetime, timedelta\n",
        "from binance import Client\n",
        "from jinja2 import Template\n",
        "import subprocess\n",
        "import ta\n",
        "from ta.momentum import RSIIndicator\n",
        "from ta.trend import ADXIndicator\n",
        "from ta.trend import SMAIndicator\n",
        "from ta.trend import MACD\n",
        "from ta.volatility import BollingerBands"
      ],
      "metadata": {
        "id": "iPNBDF2f7nIQ"
      },
      "execution_count": 139,
      "outputs": []
    },
    {
      "cell_type": "markdown",
      "source": [
        "# Binanceden veri çekme"
      ],
      "metadata": {
        "id": "3cOFUh21P_UX"
      }
    },
    {
      "cell_type": "code",
      "source": [
        "#Verileri getirme\n",
        "API_Key = \"QkGSZFlPppl7a5xc9qyUs8AGBr0gFLDc2XsWlGacTL73SoHf4UHZbk7gTZLNuj9p\"\n",
        "Secret_Key = \"gQmP0g7cnzYniHNZjZeIyX5uerTs13wBi16eGyjViFvntDgzjU7LqVOtKs7y7x1P\"\n",
        "client = Client(API_Key,Secret_Key,tld='us')\n"
      ],
      "metadata": {
        "id": "j7jl40UEP9IE"
      },
      "execution_count": 140,
      "outputs": []
    },
    {
      "cell_type": "markdown",
      "source": [
        "# Binance verilerin mumlarını alma"
      ],
      "metadata": {
        "id": "PMmehpWxQFxk"
      }
    },
    {
      "cell_type": "code",
      "source": [
        "def verileriGetir(sembol, periyot, baslangic, bitis):\n",
        "  mumlar = client.get_historical_klines(sembol, periyot, baslangic, bitis)\n",
        "  return mumlar"
      ],
      "metadata": {
        "id": "oFnD5-J1QMFQ"
      },
      "execution_count": 141,
      "outputs": []
    },
    {
      "cell_type": "markdown",
      "source": [
        "# Veritabanı oluşturma"
      ],
      "metadata": {
        "id": "YsAqlpmmQNbj"
      }
    },
    {
      "cell_type": "code",
      "source": [
        "#Csv dosyasına kaydetme\n",
        "def csvOlustur(sembol, mumlar):\n",
        "  csvDosya = builtins.open(sembol + \".csv\", \"w\", newline='')\n",
        "  yazici = csv.writer(csvDosya, delimiter=',')\n",
        "  for mumVerileri in mumlar:\n",
        "    yazici.writerow(mumVerileri)\n",
        "  csvDosya.close()"
      ],
      "metadata": {
        "id": "h9DvwztRQSQ5"
      },
      "execution_count": 142,
      "outputs": []
    },
    {
      "cell_type": "markdown",
      "source": [
        "# Girilen sembollerin verisini çekme"
      ],
      "metadata": {
        "id": "9N7dDsb4QSwf"
      }
    },
    {
      "cell_type": "code",
      "source": [
        "sembolList = [\"BTCUSDT\", \"ETHUSDT\", \"BNBUSDT\", \"DOGEUSDT\",\"ATOMUSDT\"]\n",
        "def veriCekmeVeCsvOlusturma(sembolList):\n",
        "    for coin in sembolList:\n",
        "        csvOlustur(coin, verileriGetir(coin, Client.KLINE_INTERVAL_1DAY, \"19 January 2023\", \"19 April 2024\"))\n",
        "        print(coin, \"csv dosyası oluşturuldu\")\n",
        "veriCekmeVeCsvOlusturma(sembolList)\n"
      ],
      "metadata": {
        "id": "WKvhFeNXQd-E",
        "outputId": "38a8a3f8-ee5c-4768-f72b-74f0f53715d8",
        "colab": {
          "base_uri": "https://localhost:8080/"
        }
      },
      "execution_count": 143,
      "outputs": [
        {
          "output_type": "stream",
          "name": "stdout",
          "text": [
            "BTCUSDT csv dosyası oluşturuldu\n",
            "ETHUSDT csv dosyası oluşturuldu\n",
            "BNBUSDT csv dosyası oluşturuldu\n",
            "DOGEUSDT csv dosyası oluşturuldu\n",
            "ATOMUSDT csv dosyası oluşturuldu\n"
          ]
        }
      ]
    },
    {
      "cell_type": "markdown",
      "source": [
        "# Verilerin Başlığını yazma"
      ],
      "metadata": {
        "id": "tbk0q6jRQebb"
      }
    },
    {
      "cell_type": "code",
      "source": [
        "okunacakCsv = \"BTCUSDT.csv\"\n",
        "basliklar = ['Open_time','Open','High','Low','Close','Volume','Close_time','Quote_asset_volume','Number_of_trades','Taker_buy_base_asset_volume','Taker_buy_quote_asset_volume','Ignore']\n",
        "df = pd.read_csv(okunacakCsv,names=basliklar)\n",
        "acilis=df['Open']\n",
        "print(acilis)"
      ],
      "metadata": {
        "colab": {
          "base_uri": "https://localhost:8080/"
        },
        "id": "LBKe5E0rQg71",
        "outputId": "61cff4e2-e053-4e2f-d8a7-abb358f6d668"
      },
      "execution_count": 144,
      "outputs": [
        {
          "output_type": "stream",
          "name": "stdout",
          "text": [
            "0      20677.13\n",
            "1      21080.05\n",
            "2      22675.01\n",
            "3      22783.64\n",
            "4      22710.87\n",
            "         ...   \n",
            "452    65826.97\n",
            "453    63380.58\n",
            "454    63806.00\n",
            "455    61350.59\n",
            "456    63447.69\n",
            "Name: Open, Length: 457, dtype: float64\n"
          ]
        }
      ]
    },
    {
      "cell_type": "markdown",
      "source": [
        "#TimeStamp Verisini Okunur Hâle Getirme"
      ],
      "metadata": {
        "id": "6Svne2aMQlE4"
      }
    },
    {
      "cell_type": "code",
      "source": [
        "\n",
        "def zamanHesapla(timestamp):\n",
        "    return datetime.fromtimestamp(timestamp.timestamp())\n",
        "\n",
        "def zamanYazdır():\n",
        "    for zaman in acilis_zamani[:5]:\n",
        "        print(zamanHesapla(zaman))\n",
        "\n",
        "zamanYazdır()"
      ],
      "metadata": {
        "id": "XEZPZIXEQlv8",
        "outputId": "246c8c6a-8234-4613-82e6-1117804d5327",
        "colab": {
          "base_uri": "https://localhost:8080/"
        }
      },
      "execution_count": 203,
      "outputs": [
        {
          "output_type": "stream",
          "name": "stdout",
          "text": [
            "2024-03-30 19:00:00\n",
            "2024-03-30 20:00:00\n",
            "2024-03-30 21:00:00\n",
            "2024-03-30 22:00:00\n",
            "2024-03-30 23:00:00\n"
          ]
        }
      ]
    },
    {
      "cell_type": "markdown",
      "source": [
        "#Rsi hesaplama ve değişken tanımlama"
      ],
      "metadata": {
        "id": "jdALRATEQp56"
      }
    },
    {
      "cell_type": "code",
      "source": [
        "\n",
        "open = df['Open']\n",
        "close = df['Close']\n",
        "acilis_zamani = df['Open_time']\n",
        "high = df['High']\n",
        "low = df['Low']\n",
        "\n",
        "periyod = 14 #default rsı değeri\n",
        "rsi_indicator = RSIIndicator(close=close, window=periyod)\n",
        "rsi = rsi_indicator.rsi()\n",
        "\n",
        "print(rsi)"
      ],
      "metadata": {
        "colab": {
          "base_uri": "https://localhost:8080/"
        },
        "id": "93VV8wiJQqrJ",
        "outputId": "37a17ab9-9805-4b9d-beee-aca73940261a"
      },
      "execution_count": 146,
      "outputs": [
        {
          "output_type": "stream",
          "name": "stdout",
          "text": [
            "0            NaN\n",
            "1            NaN\n",
            "2            NaN\n",
            "3            NaN\n",
            "4            NaN\n",
            "         ...    \n",
            "452    42.055725\n",
            "453    43.032891\n",
            "454    38.629413\n",
            "455    43.862566\n",
            "456    44.749538\n",
            "Name: rsi, Length: 457, dtype: float64\n"
          ]
        }
      ]
    },
    {
      "cell_type": "markdown",
      "source": [
        "#Hareketli Ortlamalar (sma, adx)\n"
      ],
      "metadata": {
        "id": "Cpyvdt8RQsuq"
      }
    },
    {
      "cell_type": "code",
      "source": [
        "sma_indicator = SMAIndicator(close, window=50)\n",
        "sma_50 = sma_indicator.sma_indicator()\n",
        "print(sma_50)"
      ],
      "metadata": {
        "colab": {
          "base_uri": "https://localhost:8080/"
        },
        "id": "cjWIlYNyQzgC",
        "outputId": "9c6177d9-f7b4-4115-84f9-4300b729e431"
      },
      "execution_count": 147,
      "outputs": [
        {
          "output_type": "stream",
          "name": "stdout",
          "text": [
            "0             NaN\n",
            "1             NaN\n",
            "2             NaN\n",
            "3             NaN\n",
            "4             NaN\n",
            "          ...    \n",
            "452    67007.7032\n",
            "453    67195.0892\n",
            "454    67279.5334\n",
            "455    67300.5316\n",
            "456    67354.8946\n",
            "Name: sma_50, Length: 457, dtype: float64\n"
          ]
        }
      ]
    },
    {
      "cell_type": "code",
      "source": [
        "adx_indicator = ADXIndicator(high, low, close, window=14) #window=periyot\n",
        "adx = adx_indicator.adx()\n",
        "\n",
        "print(adx)"
      ],
      "metadata": {
        "colab": {
          "base_uri": "https://localhost:8080/"
        },
        "id": "BMJkjMXTQ2BP",
        "outputId": "c1cc7289-6079-479e-9b77-4c4e27fc4b08"
      },
      "execution_count": 148,
      "outputs": [
        {
          "output_type": "stream",
          "name": "stdout",
          "text": [
            "0       0.000000\n",
            "1       0.000000\n",
            "2       0.000000\n",
            "3       0.000000\n",
            "4       0.000000\n",
            "         ...    \n",
            "452    17.825873\n",
            "453    18.594031\n",
            "454    19.786650\n",
            "455    20.894082\n",
            "456    21.167109\n",
            "Name: adx, Length: 457, dtype: float64\n"
          ]
        }
      ]
    },
    {
      "cell_type": "markdown",
      "source": [
        "#Macd Hesaplama"
      ],
      "metadata": {
        "id": "znZ7jGkFQ498"
      }
    },
    {
      "cell_type": "code",
      "source": [
        "macd_indicator = MACD(close, window_slow=26, window_fast=12, window_sign=9)\n",
        "macd = macd_indicator.macd()\n",
        "\n",
        "print(macd)\n"
      ],
      "metadata": {
        "colab": {
          "base_uri": "https://localhost:8080/"
        },
        "id": "LPuu_k2FQ5ir",
        "outputId": "5cb935e4-54e2-4f3e-9c65-1c923f49d443"
      },
      "execution_count": 149,
      "outputs": [
        {
          "output_type": "stream",
          "name": "stdout",
          "text": [
            "0             NaN\n",
            "1             NaN\n",
            "2             NaN\n",
            "3             NaN\n",
            "4             NaN\n",
            "          ...    \n",
            "452   -133.090377\n",
            "453   -387.271583\n",
            "454   -787.023678\n",
            "455   -917.819152\n",
            "456   -979.515786\n",
            "Name: MACD_12_26, Length: 457, dtype: float64\n"
          ]
        }
      ]
    },
    {
      "cell_type": "markdown",
      "source": [
        "#Boolinger Bandi hesaplama\n"
      ],
      "metadata": {
        "id": "2QYsyM4FQ7TX"
      }
    },
    {
      "cell_type": "code",
      "source": [
        "bb_indicator = BollingerBands(close, window=20, window_dev=2)\n",
        "bb = bb_indicator.bollinger_mavg()\n",
        "\n",
        "print(bb)"
      ],
      "metadata": {
        "colab": {
          "base_uri": "https://localhost:8080/"
        },
        "id": "aGTAyEv6Q_ED",
        "outputId": "9e7fbd10-c71c-4532-b0b3-08483f8926de"
      },
      "execution_count": 150,
      "outputs": [
        {
          "output_type": "stream",
          "name": "stdout",
          "text": [
            "0             NaN\n",
            "1             NaN\n",
            "2             NaN\n",
            "3             NaN\n",
            "4             NaN\n",
            "          ...    \n",
            "452    68425.7555\n",
            "453    68146.8350\n",
            "454    67670.7170\n",
            "455    67351.3825\n",
            "456    67055.3975\n",
            "Name: mavg, Length: 457, dtype: float64\n"
          ]
        }
      ]
    },
    {
      "cell_type": "markdown",
      "source": [
        "\n",
        "#Golden ve Dead Cross ile al sat (SMA50-SMA200)"
      ],
      "metadata": {
        "id": "ynaQ41PQRCNL"
      }
    },
    {
      "cell_type": "code",
      "source": [
        "# Verileri al\n",
        "end = datetime.now().strftime('%Y-%m-%d')\n",
        "start = datetime.now() - pd.DateOffset(days=30)\n",
        "data = yf.download(\"BTC-USD\", start=start, end=end, interval=\"60m\")\n",
        "\n",
        "# Gerekli verileri seç\n",
        "close = data['Close']\n",
        "acilis_zamani = data.index\n",
        "high = data['High']\n",
        "low = data['Low']\n",
        "\n",
        "def DCA():\n",
        "    cuzdan = 100\n",
        "    alimSayisi = 0\n",
        "    satimSayisi = 0\n",
        "    toplamCoin = 0\n",
        "    komisyonOrani = 75/10000\n",
        "    verilenKomisyon = 0\n",
        "\n",
        "    # 50 ve 200 periyotlu basit hareketli ortalamaları hesapla\n",
        "    sma50 = close.rolling(window=50).mean()\n",
        "    sma200 = close.rolling(window=200).mean()\n",
        "\n",
        "    print(\"############################\")\n",
        "    for i in range(len(close)):\n",
        "        if not np.isnan(sma50[i]):\n",
        "            if sma50[i-1] < sma200[i-1] and sma50[i] > sma200[i]:  # yukarı kesim\n",
        "                print(zamanHesapla(acilis_zamani[i+1]),\" tarihinde \", cuzdan/close[i], \" adet BTC alindi\")\n",
        "                alimSayisi += 1\n",
        "                toplamCoin = cuzdan/close[i]\n",
        "                verilenKomisyon += komisyonOrani*cuzdan\n",
        "\n",
        "            # aşağı kesim\n",
        "            if sma50[i-1] > sma200[i-1] and sma50[i] < sma200[i] and alimSayisi > 0:\n",
        "                print(zamanHesapla(acilis_zamani[i+1]),\" tarihinde \", toplamCoin, \" adet BTC satildi\")\n",
        "                satimSayisi += 1\n",
        "                fiyat = close[i] * toplamCoin\n",
        "                cuzdan = fiyat\n",
        "                toplamCoin = 0\n",
        "                verilenKomisyon += komisyonOrani*fiyat\n",
        "                print(f\"Bu iki işlem sonucunda işlem ederi : {cuzdan}\")\n",
        "                print(\"#####################################\")\n",
        "\n",
        "    print(f\"Toplam yapılan islem : {(alimSayisi+satimSayisi)/2}\")\n",
        "    print(f\"Toplam verilen komisyon : {verilenKomisyon}\")\n",
        "    print(f\"Total cuzdan : {cuzdan}\")\n",
        "\n",
        "DCA()\n"
      ],
      "metadata": {
        "colab": {
          "base_uri": "https://localhost:8080/"
        },
        "id": "gB8-Z_L7RC0a",
        "outputId": "0a54075f-6e69-40f9-a7ff-a1ee752a5f06"
      },
      "execution_count": 151,
      "outputs": [
        {
          "output_type": "stream",
          "name": "stderr",
          "text": [
            "\r[*********************100%%**********************]  1 of 1 completed"
          ]
        },
        {
          "output_type": "stream",
          "name": "stdout",
          "text": [
            "############################\n",
            "2024-04-21 02:00:00  tarihinde  0.001538879828934271  adet BTC alindi\n",
            "2024-04-26 07:00:00  tarihinde  0.001538879828934271  adet BTC satildi\n",
            "Bu iki işlem sonucunda işlem ederi : 99.1392852756792\n",
            "#####################################\n",
            "Toplam yapılan islem : 1.0\n",
            "Toplam verilen komisyon : 1.493544639567594\n",
            "Total cuzdan : 99.1392852756792\n"
          ]
        },
        {
          "output_type": "stream",
          "name": "stderr",
          "text": [
            "\n"
          ]
        }
      ]
    },
    {
      "cell_type": "markdown",
      "source": [
        "# Hareketli ortlamaya göre en iyi EMAD ve en kazançlı kriptoyu bulma"
      ],
      "metadata": {
        "id": "4cKYFkheRNBb"
      }
    },
    {
      "cell_type": "code",
      "source": [
        "import pandas as pd\n",
        "\n",
        "def ema(data, period):\n",
        "    return data.ewm(span=period, adjust=False).mean()\n",
        "\n",
        "def DCA(symbol, short_period, long_period):\n",
        "    initial_investment = 50\n",
        "    buy_count = 0\n",
        "    total_BTC = 0\n",
        "    commission_rate = 75 / 10000\n",
        "    commission = 0\n",
        "\n",
        "    csv_name = symbol + '.csv'\n",
        "    attributes = [\"Open_time\", 'Open', 'High', 'Low', 'Close', 'Volume', '1', '2', '3', '4', '5', '6']\n",
        "    df = pd.read_csv(csv_name, names=attributes)\n",
        "    close_prices = df['Close']\n",
        "\n",
        "    short_ema = ema(df['Close'], period=short_period)\n",
        "    long_ema = ema(df['Close'], period=long_period)\n",
        "\n",
        "    for i in range(df.shape[0]):\n",
        "        if not pd.isna(short_ema[i]) and len(df) > 100 and i > 0:\n",
        "            if long_ema[i - 1] < short_ema[i - 1] and long_ema[i] > short_ema[i]:  # Alım sinyali: Uzun EMA, kısa EMA'yı yukarı yönlü kesti.\n",
        "                buy_count += 1\n",
        "                total_BTC += initial_investment / close_prices[i]\n",
        "                commission += commission_rate * initial_investment\n",
        "\n",
        "    try:\n",
        "        multiplier = (round(total_BTC, 4) * close_prices[len(close_prices) - 1] - commission) / (initial_investment * buy_count)\n",
        "    except ZeroDivisionError:\n",
        "        print(f\"{symbol} için hata var\")\n",
        "        return\n",
        "\n",
        "    total_profit = total_BTC * close_prices[len(close_prices) - 1] - (initial_investment * buy_count) - commission\n",
        "\n",
        "    '''print(\"Kaç katladı: \", multiplier)\n",
        "    print(\"Toplam kazanç: \", total_profit)\n",
        "    print(\"Toplam komisyon: \", commission)\n",
        "    print(\"---------------------------------------------------------------------------------\")'''\n",
        "    return [multiplier, short_period, long_period]\n",
        "\n",
        "DCA(\"BTCUSDT\", 13, 59)\n"
      ],
      "metadata": {
        "colab": {
          "base_uri": "https://localhost:8080/"
        },
        "id": "f46FmsC6R_B-",
        "outputId": "4ac2ef20-4f46-40c9-d7ec-fd1cac5ac3f8"
      },
      "execution_count": 152,
      "outputs": [
        {
          "output_type": "execute_result",
          "data": {
            "text/plain": [
              "[2.6313592933333334, 13, 59]"
            ]
          },
          "metadata": {},
          "execution_count": 152
        }
      ]
    },
    {
      "cell_type": "markdown",
      "source": [
        "#Kod optimizasyonu (En iyi keşim noktaları, En çok karli crypto , En iyi EMA)"
      ],
      "metadata": {
        "id": "fDzqvW9hSDRj"
      }
    },
    {
      "cell_type": "code",
      "source": [
        "def optimize(sembolList):\n",
        "  oranlar=[]\n",
        "  dcalar = []\n",
        "  totaloranlar=[]\n",
        "  #emaList=[]\n",
        "  uzunEmalar=[]\n",
        "  kisaEmalar=[]\n",
        "  ema_kesimler = []\n",
        "\n",
        "  for i in sembolList:\n",
        "    for x in range(2, 21):\n",
        "      for y in range(50, 61):\n",
        "        dcaFun = DCA(i, x, y)\n",
        "        oranlar.append(dcaFun[0])\n",
        "        uzunEmalar.append(dcaFun[1])\n",
        "        kisaEmalar.append(dcaFun[2])\n",
        "        ema_kesimler.append((dcaFun[1], dcaFun[2] , format(dcaFun[0], \".3f\")))\n",
        "\n",
        "    totaloranlar.append(max(oranlar))\n",
        "    print(\"################################\")\n",
        "    print (f\"coin adı : {i}\")\n",
        "    print(f\"En iyi kazanç : {max(oranlar)}\")\n",
        "    print(f\"En iyi EMA iki kesişim : {uzunEmalar[oranlar.index(max(oranlar))]} , {kisaEmalar[oranlar.index(max(oranlar))]}\")\n",
        "\n",
        "    #print(f\"en_iyi_kazanc EMA : {oranlar.index(max(oranlar))+2}\" )\n",
        "    #emaList.append(oranlar.index(max(oranlar))+2)\n",
        "    print(\"################################\")\n",
        "    oranlar.clear()\n",
        "\n",
        "  print(f\"Maximum kazanç : {max(totaloranlar)}\")\n",
        "  enCokKazandıranCoin = sembolList[totaloranlar.index(max(totaloranlar))]\n",
        "  print(f\"Maximum kazancı veren coin : {enCokKazandıranCoin}\")\n",
        "  kesisim_kaydet(ema_kesimler)\n",
        "\n",
        "def kesisim_kaydet(ema_kesimler):\n",
        "    df = pd.DataFrame(ema_kesimler, columns=['EMA1', 'EMA2' ,'EMA3'])\n",
        "    df.to_csv('ema_kesimler.csv', index=False)\n",
        "    print(\"EMA kesişim verileri başarıyla 'ema_kesimler.csv' dosyasına kaydedildi.\")\n",
        "\n",
        "optimize(['BTCUSDT'])"
      ],
      "metadata": {
        "colab": {
          "base_uri": "https://localhost:8080/"
        },
        "id": "W53GW8RXSD1W",
        "outputId": "a20fb166-863e-4c02-c37c-84df9baa2f79"
      },
      "execution_count": 153,
      "outputs": [
        {
          "output_type": "stream",
          "name": "stdout",
          "text": [
            "################################\n",
            "coin adı : BTCUSDT\n",
            "En iyi kazanç : 2.6313592933333334\n",
            "En iyi EMA iki kesişim : 13 , 59\n",
            "################################\n",
            "Maximum kazanç : 2.6313592933333334\n",
            "Maximum kazancı veren coin : BTCUSDT\n",
            "EMA kesişim verileri başarıyla 'ema_kesimler.csv' dosyasına kaydedildi.\n"
          ]
        }
      ]
    },
    {
      "cell_type": "markdown",
      "source": [
        "# Kesişim verilerin okunması"
      ],
      "metadata": {
        "id": "3ESLZtDNUZZQ"
      }
    },
    {
      "cell_type": "code",
      "source": [
        "veri = pd.read_csv('ema_kesimler.csv')\n",
        "print(veri)"
      ],
      "metadata": {
        "id": "QcZypHMQUdvt",
        "outputId": "cee3f609-5c9c-40cd-abd3-e7b8a4aba765",
        "colab": {
          "base_uri": "https://localhost:8080/"
        }
      },
      "execution_count": 154,
      "outputs": [
        {
          "output_type": "stream",
          "name": "stdout",
          "text": [
            "     EMA1  EMA2   EMA3\n",
            "0       2    50  2.210\n",
            "1       2    51  2.210\n",
            "2       2    52  2.202\n",
            "3       2    53  2.202\n",
            "4       2    54  2.186\n",
            "..    ...   ...    ...\n",
            "204    20    56  2.578\n",
            "205    20    57  2.578\n",
            "206    20    58  2.578\n",
            "207    20    59  2.578\n",
            "208    20    60  2.578\n",
            "\n",
            "[209 rows x 3 columns]\n"
          ]
        }
      ]
    },
    {
      "cell_type": "markdown",
      "source": [
        "# Gelen veri adedince düğüm oluşturulması ve javascripti html ye gömme"
      ],
      "metadata": {
        "id": "qeaN8qITUhD2"
      }
    },
    {
      "cell_type": "code",
      "source": [
        "dugumler = []\n",
        "baglantilar = []\n",
        "for i, row in veri.iterrows():\n",
        "    # Her EMA sütunu için işlem yap\n",
        "    for j, ema_sutunu in enumerate(['EMA1', 'EMA2', 'EMA3']):\n",
        "        if j == 0 or j == 1:\n",
        "            radius = min(20, row[ema_sutunu])\n",
        "        else:\n",
        "            radius = min(20, (row[ema_sutunu] - row['EMA1']) + (row['EMA2'] - row[ema_sutunu]))\n",
        "        radius = round(radius, 2)\n",
        "\n",
        "        # Düğüm verisini oluştur ve listeye ekle\n",
        "        dugum = {\n",
        "            'id': f'Düğüm {i * 3 + j + 1}',\n",
        "            'group': 'Group',\n",
        "            'radius': radius,\n",
        "            'citing_patents_count': row[ema_sutunu]\n",
        "        }\n",
        "        dugumler.append(dugum)\n",
        "\n",
        "        # İlk düğüm dışındaki düğümler için bağlantı oluştur\n",
        "        if j > 0:\n",
        "            fark = abs(row[ema_sutunu] - row[veri.columns[j - 1]])\n",
        "            baglanti = {\n",
        "                'source': f'Düğüm {i * 3 + j}',\n",
        "                'target': f'Düğüm {i * 3 + j + 1}',\n",
        "                'value': round(fark / 10, 4)\n",
        "            }\n",
        "            baglantilar.append(baglanti)\n",
        "\n",
        "with open(\"veri.json\", \"w\") as veri_file:\n",
        "    json.dump({'nodes': dugumler, 'links': baglantilar}, veri_file)\n",
        "\n",
        "subprocess.run([\"python\", \"-m\", \"http.server\"])\n"
      ],
      "metadata": {
        "id": "OpfzP2nEbzY2"
      },
      "execution_count": null,
      "outputs": []
    },
    {
      "cell_type": "markdown",
      "source": [
        "# **html sayfası**"
      ],
      "metadata": {
        "id": "G-3sYneFUum3"
      }
    },
    {
      "cell_type": "markdown",
      "source": [
        "\n",
        "\n",
        "```\n",
        "<!-- index.html -->\n",
        "<!DOCTYPE html>\n",
        "<html lang=\"en\">\n",
        "<head>\n",
        "  <meta charset=\"UTF-8\">\n",
        "  <meta name=\"viewport\" content=\"width=device-width, initial-scale=1.0\">\n",
        "  <title>D3.js Graph</title>\n",
        "  <script src=\"https://d3js.org/d3.v7.min.js\"></script>\n",
        "  <style>\n",
        "    svg {\n",
        "      max-width: 100%;\n",
        "      height: 100%;\n",
        "      background-color: black;\n",
        "    }\n",
        "    text {\n",
        "      fill: white;\n",
        "    }\n",
        "  </style>\n",
        "</head>\n",
        "<body>\n",
        "  <script>\n",
        "    const data = {\n",
        "      nodes: {{ nodes | safe }},\n",
        "      links: {{ links | safe }}\n",
        "    };\n",
        "\n",
        "    async function loadData() {\n",
        "      const width = window.innerWidth;\n",
        "      const height = window.innerHeight;\n",
        "      const color = d3.scaleOrdinal(d3.schemeCategory10);\n",
        "      const links = data.links.map(function(d) { return Object.assign({}, d); });\n",
        "      const nodes = data.nodes.map(function(d) { return Object.assign({}, d); });\n",
        "\n",
        "      const simulation = d3.forceSimulation(nodes)\n",
        "        .force(\"link\", d3.forceLink(links).id(function(d) { return d.id; }))\n",
        "        .force(\"charge\", d3.forceManyBody())\n",
        "        .force(\"x\", d3.forceX())\n",
        "        .force(\"y\", d3.forceY());\n",
        "\n",
        "      const svg = d3.create(\"svg\")\n",
        "        .attr(\"width\", width)\n",
        "        .attr(\"height\", height)\n",
        "        .attr(\"viewBox\", [-width / 2, -height / 2, width, height]);\n",
        "\n",
        "      const link = svg.append(\"g\")\n",
        "        .attr(\"stroke\", \"#f00\")\n",
        "        .attr(\"stroke-opacity\", 0.6)\n",
        "        .selectAll(\"line\")\n",
        "        .data(links)\n",
        "        .join(\"line\")\n",
        "        .attr(\"stroke-width\", function(d) { return Math.sqrt(d.value); });\n",
        "\n",
        "      const node = svg.append(\"g\")\n",
        "        .attr(\"stroke\", \"#fff\")\n",
        "        .attr(\"stroke-width\", 1.5)\n",
        "        .selectAll(\"g\")\n",
        "        .data(nodes)\n",
        "        .join(\"g\")\n",
        "        .attr(\"transform\", d => `translate(${d.x},${d.y})`);\n",
        "\n",
        "      node.append(\"circle\")\n",
        "        .attr(\"r\", d => d.radius * 1)\n",
        "        .attr(\"fill\", \"black\");\n",
        "\n",
        "      node.append(\"text\")\n",
        "        .attr(\"text-anchor\", \"middle\")\n",
        "        .attr(\"dominant-baseline\", \"middle\")\n",
        "        .attr(\"font-size\", \"10px\")\n",
        "        .attr(\"fill\", d => d.group === 'Group' ? 'red' : 'white')\n",
        "        .text(d => d.citing_patents_count);\n",
        "\n",
        "      node.call(d3.drag()\n",
        "        .on(\"start\", dragstarted)\n",
        "        .on(\"drag\", dragged)\n",
        "        .on(\"end\", dragended));\n",
        "\n",
        "      simulation.on(\"tick\", function() {\n",
        "        link\n",
        "          .attr(\"x1\", function(d) { return d.source.x; })\n",
        "          .attr(\"y1\", function(d) { return d.source.y; })\n",
        "          .attr(\"x2\", function(d) { return d.target.x; })\n",
        "          .attr(\"y2\", function(d) { return d.target.y; });\n",
        "\n",
        "        node\n",
        "          .attr(\"transform\", function(d) { return `translate(${d.x},${d.y})`; });\n",
        "      });\n",
        "\n",
        "      function dragstarted(event) {\n",
        "        if (!event.active) simulation.alphaTarget(0.3).restart();\n",
        "        event.subject.fx = event.subject.x;\n",
        "        event.subject.fy = event.subject.y;\n",
        "      }\n",
        "\n",
        "      function dragged(event) {\n",
        "        event.subject.fx = event.x;\n",
        "        event.subject.fy = event.y;\n",
        "      }\n",
        "\n",
        "      function dragended(event) {\n",
        "        if (!event.active) simulation.alphaTarget(0);\n",
        "        event.subject.fx = null;\n",
        "        event.subject.fy = null;\n",
        "      }\n",
        "\n",
        "      document.body.appendChild(svg.node());\n",
        "    }\n",
        "\n",
        "    window.onload = loadData;\n",
        "  </script>\n",
        "</body>\n",
        "</html>\n",
        "```\n",
        "\n"
      ],
      "metadata": {
        "id": "zOXHtxuvWUCX"
      }
    },
    {
      "cell_type": "markdown",
      "source": [
        "# MACD ile kesişim sinyalleri oluşturup kar hesaplama"
      ],
      "metadata": {
        "id": "7XULQn0ttdRl"
      }
    },
    {
      "cell_type": "code",
      "source": [
        "def MACD(sembol, short_period, long_period, signal_period):\n",
        "    islem_basi_dolar = 50\n",
        "    alim_sayisi = 0\n",
        "    toplam_btc = 0\n",
        "    komisyon_orani = 75 / 10000\n",
        "    komisyon = 0\n",
        "\n",
        "    csv_adi = sembol + '.csv'\n",
        "    sutunlar = [\"Zaman\",'Açılış','En Yüksek','En Düşük','Kapanış','Hacim','1','2','3','4','5','6']\n",
        "    df = pd.read_csv(csv_adi, names=sutunlar)\n",
        "    kapanis = df['Kapanış']\n",
        "\n",
        "    # MACD çizgisini hesapla\n",
        "    macd_gostergesi = ta.trend.macd(df['Kapanış'], window_fast=short_period, window_slow=long_period)\n",
        "    df['macd_cizgisi'] = macd_gostergesi\n",
        "\n",
        "    # Sinyal çizgisini hesapla\n",
        "    sinyal_gostergesi = ta.trend.macd_signal(df['Kapanış'], window_fast=short_period, window_slow=long_period, window_sign=signal_period)\n",
        "    df['sinyal_cizgisi'] = sinyal_gostergesi\n",
        "\n",
        "    # MACD kesişimlerini bul\n",
        "    crossings = np.where((df['macd_cizgisi'].shift(1) < df['sinyal_cizgisi'].shift(1)) & (df['macd_cizgisi'] > df['sinyal_cizgisi']), 1, 0)\n",
        "\n",
        "    # Kesişimleri kontrol et ve işlem yap\n",
        "    kesisimler = []\n",
        "    for i in range(df.shape[0]):\n",
        "      if crossings[i] == 1 and len(df) > 100:\n",
        "        alim_sayisi += 1\n",
        "        toplam_btc += islem_basi_dolar / kapanis[i]\n",
        "        komisyon += komisyon_orani * islem_basi_dolar\n",
        "\n",
        "        '''print(f\"Alım/Satım değeri: {df['Kapanış'].iloc[i]}\")\n",
        "        print(\"Alım/Satım zamanı:\", zamanHesapla(df['Zaman'].iloc[i]))\n",
        "        print(\"Alım/Satım fiyatı:\", df['Kapanış'].iloc[i])'''\n",
        "\n",
        "        # Kaç kat kazanç elde edildiğini ve toplam kazancı hesapla\n",
        "        try:\n",
        "          kat = (np.round(toplam_btc, 4) * kapanis[len(kapanis) - 1] - komisyon) / (islem_basi_dolar * alim_sayisi)\n",
        "        except:\n",
        "          print(f\"{sembol}'de hata var\")\n",
        "\n",
        "        kazanc = toplam_btc * kapanis[len(kapanis) - 1] - (islem_basi_dolar * alim_sayisi) - komisyon\n",
        "\n",
        "        ''' print(\"Kaça katladı: \", kat)\n",
        "        print(\"Toplam kazanc: \", kazanc)\n",
        "        print(\"Toplam verilen komisyon: \", komisyon)\n",
        "        print(short_period, long_period, signal_period)\n",
        "        print(\"---------------------------------------------------------------------------------\")'''\n",
        "\n",
        "        kesisimler.append([short_period, long_period, signal_period, kat])\n",
        "\n",
        "    return kesisimler\n",
        "\n",
        "def optimize(sembol_listesi):\n",
        "    kesisimler = []\n",
        "\n",
        "    for sembol in sembol_listesi:\n",
        "        for short_period in range(10, 21):\n",
        "            for long_period in range(50, 61):\n",
        "                for signal_period in range(9, 20):\n",
        "                    kesisimler.extend(MACD(sembol, short_period, long_period, signal_period))\n",
        "\n",
        "    # Kesişimlerin bulunduğu liste üzerinden DataFrame oluşturalım\n",
        "    columns = [\"short_period\", \"long_period\", \"signal_period\", \"kat\"]\n",
        "    df = pd.DataFrame(kesisimler, columns=columns)\n",
        "\n",
        "    # CSV dosyasına yazalım\n",
        "    df.to_csv('MACD_Kesisim.csv', index=False)\n",
        "    print(\"Kesişim ve kazanç verileri başarıyla 'kesisim_ve_kazanc.csv' dosyasına kaydedildi.\")\n",
        "\n",
        "optimize(['BTCUSDT'])"
      ],
      "metadata": {
        "id": "rPfO_29NXefq",
        "outputId": "93dd3937-5008-4611-d06a-9db78b4a4636",
        "colab": {
          "base_uri": "https://localhost:8080/"
        }
      },
      "execution_count": 204,
      "outputs": [
        {
          "output_type": "stream",
          "name": "stdout",
          "text": [
            "Kesişim ve kazanç verileri başarıyla 'kesisim_ve_kazanc.csv' dosyasına kaydedildi.\n"
          ]
        }
      ]
    }
  ]
}